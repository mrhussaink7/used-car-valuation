{
 "cells": [
  {
   "cell_type": "markdown",
   "id": "970c762c-28e2-48ab-a662-32c7766f0e66",
   "metadata": {},
   "source": [
    "# Hypothesis Testing\n",
    "\n",
    "This notebook focuses on testing hypotheses derived from the [Vehicles.csv](https://www.kaggle.com/datasets/austinreese/craigslist-carstrucks-data) dataset. We will perform statistical tests to validate our observations and determine their significance. Each hypothesis will be tested, the null hypothesis will be evaluated, and business implications will be crafted based on the results.\n",
    "\n",
    "By the end of this notebook, we will have validated actionable insights that stakeholders can use to make informed decisions and improve business strategies"
   ]
  }
 ],
 "metadata": {
  "kernelspec": {
   "display_name": "Python 3 (ipykernel)",
   "language": "python",
   "name": "python3"
  },
  "language_info": {
   "codemirror_mode": {
    "name": "ipython",
    "version": 3
   },
   "file_extension": ".py",
   "mimetype": "text/x-python",
   "name": "python",
   "nbconvert_exporter": "python",
   "pygments_lexer": "ipython3",
   "version": "3.9.19"
  }
 },
 "nbformat": 4,
 "nbformat_minor": 5
}
