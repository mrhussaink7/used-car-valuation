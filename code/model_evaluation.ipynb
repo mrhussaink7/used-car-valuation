{
 "cells": [
  {
   "cell_type": "markdown",
   "id": "cd414134-d33d-4cea-8b59-50fd97b89e88",
   "metadata": {},
   "source": [
    "# Model Evaluation\n",
    "\n",
    "In this notebook, we will evaluate the performance of our models for the [Vehicles.csv](https://www.kaggle.com/datasets/austinreese/craigslist-carstrucks-data) dataset. We will assess various models’ effectiveness in predicting used car prices, using a range of evaluation metrics. Our goal is to determine the most accurate and reliable model for this task.\n",
    "\n",
    "By the end of this notebook, we will identify the strongest model for predicting used car prices, to be evaluated for further insights."
   ]
  },
  {
   "cell_type": "code",
   "execution_count": null,
   "id": "8d00e38d-8a46-477a-9bf4-6e454c17f4d8",
   "metadata": {},
   "outputs": [],
   "source": []
  }
 ],
 "metadata": {
  "kernelspec": {
   "display_name": "Python 3 (ipykernel)",
   "language": "python",
   "name": "python3"
  },
  "language_info": {
   "codemirror_mode": {
    "name": "ipython",
    "version": 3
   },
   "file_extension": ".py",
   "mimetype": "text/x-python",
   "name": "python",
   "nbconvert_exporter": "python",
   "pygments_lexer": "ipython3",
   "version": "3.9.19"
  }
 },
 "nbformat": 4,
 "nbformat_minor": 5
}
