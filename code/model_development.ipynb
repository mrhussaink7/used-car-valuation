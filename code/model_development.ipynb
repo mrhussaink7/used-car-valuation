{
 "cells": [
  {
   "cell_type": "markdown",
   "id": "8f320171-716e-4e14-8057-7eab766f5875",
   "metadata": {},
   "source": [
    "# Model Development\n",
    "\n",
    "In this notebook, we will develop predictive models using the [Vehicles.csv](https://www.kaggle.com/datasets/austinreese/craigslist-carstrucks-data) dataset. dataset. We will explore various machine learning techniques to create models that can accurately predict used car prices. The process will include building base models and optimizing them through techniques such as regularization and hyperparameter tuning.\n",
    "\n",
    "By the end of this notebook, we will have established a set of foundational models ready for evaluation, aiming to identify the most effective model for predicting used car prices."
   ]
  },
  {
   "cell_type": "code",
   "execution_count": null,
   "id": "2b7320ea-f7eb-49e5-9624-65506737e9a3",
   "metadata": {},
   "outputs": [],
   "source": []
  }
 ],
 "metadata": {
  "kernelspec": {
   "display_name": "Python 3 (ipykernel)",
   "language": "python",
   "name": "python3"
  },
  "language_info": {
   "codemirror_mode": {
    "name": "ipython",
    "version": 3
   },
   "file_extension": ".py",
   "mimetype": "text/x-python",
   "name": "python",
   "nbconvert_exporter": "python",
   "pygments_lexer": "ipython3",
   "version": "3.9.19"
  }
 },
 "nbformat": 4,
 "nbformat_minor": 5
}
