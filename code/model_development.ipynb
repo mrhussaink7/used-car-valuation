{
 "cells": [
  {
   "cell_type": "markdown",
   "id": "8f320171-716e-4e14-8057-7eab766f5875",
   "metadata": {},
   "source": [
    "# Model Development\n",
    "\n",
    "In this notebook, we will develop predictive models using the [Vehicles.csv](https://www.kaggle.com/datasets/austinreese/craigslist-carstrucks-data) dataset. dataset. We will explore various machine learning techniques to create models that can accurately predict used car prices. The process will include building base models and optimizing them through techniques such as regularization and hyperparameter tuning.\n",
    "\n",
    "By the end of this notebook, we will have established a set of foundational models ready for evaluation, aiming to identify the most effective model for predicting used car prices."
   ]
  },
  {
   "cell_type": "code",
   "execution_count": 1,
   "id": "2b7320ea-f7eb-49e5-9624-65506737e9a3",
   "metadata": {},
   "outputs": [],
   "source": [
    "import numpy as np\n",
    "import pandas as pd\n",
    "import matplotlib.pyplot\n",
    "import seaborn as sns\n",
    "from sklearn.model_selection import train_test_split\n",
    "from sklearn.compose import ColumnTransformer\n",
    "from sklearn.pipeline import Pipeline\n",
    "from sklearn.preprocessing import OneHotEncoder, StandardScaler, OrdinalEncoder\n",
    "from sklearn.experimental import enable_iterative_imputer\n",
    "from sklearn.impute import SimpleImputer, IterativeImputer\n",
    "from sklearn.ensemble import RandomForestRegressor\n",
    "from sklearn.metrics import mean_absolute_error, mean_squared_error, r2_score\n",
    "import os, zipfile\n",
    "import warnings\n",
    "warnings.filterwarnings('ignore')\n",
    "pd.set_option('display.max_columns', None)\n",
    "pd.set_option('display.float_format', '{:,.2f}'.format)\n",
    "\n",
    "df = pd.read_csv('../data/clean_vehicles.csv')"
   ]
  },
  {
   "cell_type": "code",
   "execution_count": 2,
   "id": "b2da5726-294c-4a05-b145-5f483e9a5632",
   "metadata": {},
   "outputs": [
    {
     "name": "stdout",
     "output_type": "stream",
     "text": [
      "<class 'pandas.core.frame.DataFrame'>\n",
      "RangeIndex: 55806 entries, 0 to 55805\n",
      "Data columns (total 15 columns):\n",
      " #   Column        Non-Null Count  Dtype  \n",
      "---  ------        --------------  -----  \n",
      " 0   price         55806 non-null  int64  \n",
      " 1   year          55806 non-null  int64  \n",
      " 2   manufacturer  55806 non-null  object \n",
      " 3   model         55805 non-null  object \n",
      " 4   condition     55806 non-null  object \n",
      " 5   odometer      55806 non-null  float64\n",
      " 6   cylinders     55806 non-null  object \n",
      " 7   fuel          55806 non-null  object \n",
      " 8   title_status  55806 non-null  object \n",
      " 9   transmission  55806 non-null  object \n",
      " 10  drive         55806 non-null  object \n",
      " 11  type          55806 non-null  object \n",
      " 12  paint_color   55806 non-null  object \n",
      " 13  state         55806 non-null  object \n",
      " 14  description   55806 non-null  object \n",
      "dtypes: float64(1), int64(2), object(12)\n",
      "memory usage: 6.4+ MB\n"
     ]
    }
   ],
   "source": [
    "df.info()"
   ]
  },
  {
   "cell_type": "code",
   "execution_count": null,
   "id": "b2d32e5d-2536-4476-a848-790f2a59eb86",
   "metadata": {},
   "outputs": [],
   "source": [
    "zip_path = '../data/clean_vehicles.zip'\n",
    "extract_path = '../data/'\n",
    "\n",
    "with zipfile.ZipFile(zip_path,'r') as zip_ref:\n",
    "    zip_ref.extractall(extract_path)\n",
    "\n",
    "file_path = os.path.join(extract_path, 'clean_vehicles.csv')\n",
    "df = pd.read_csv(file_path)\n",
    "df.info"
   ]
  }
 ],
 "metadata": {
  "kernelspec": {
   "display_name": "Python 3 (ipykernel)",
   "language": "python",
   "name": "python3"
  },
  "language_info": {
   "codemirror_mode": {
    "name": "ipython",
    "version": 3
   },
   "file_extension": ".py",
   "mimetype": "text/x-python",
   "name": "python",
   "nbconvert_exporter": "python",
   "pygments_lexer": "ipython3",
   "version": "3.9.19"
  }
 },
 "nbformat": 4,
 "nbformat_minor": 5
}
