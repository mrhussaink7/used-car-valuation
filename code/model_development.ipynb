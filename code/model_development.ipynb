{
 "cells": [
  {
   "cell_type": "markdown",
   "id": "8f320171-716e-4e14-8057-7eab766f5875",
   "metadata": {},
   "source": [
    "# Model Development\n",
    "\n",
    "In this notebook, we will develop predictive models using the [Vehicles.csv](https://www.kaggle.com/datasets/austinreese/craigslist-carstrucks-data) dataset. dataset. We will explore various machine learning techniques to create models that can accurately predict used car prices. The process will include building base models and optimizing them through techniques such as regularization and hyperparameter tuning.\n",
    "\n",
    "By the end of this notebook, we will have established a set of foundational models ready for evaluation, aiming to identify the most effective model for predicting used car prices."
   ]
  },
  {
   "cell_type": "code",
   "execution_count": 8,
   "id": "2b7320ea-f7eb-49e5-9624-65506737e9a3",
   "metadata": {},
   "outputs": [
    {
     "name": "stdout",
     "output_type": "stream",
     "text": [
      "<class 'pandas.core.frame.DataFrame'>\n",
      "Index: 10000 entries, 15418 to 32859\n",
      "Data columns (total 15 columns):\n",
      " #   Column        Non-Null Count  Dtype  \n",
      "---  ------        --------------  -----  \n",
      " 0   price         10000 non-null  int64  \n",
      " 1   year          10000 non-null  int64  \n",
      " 2   manufacturer  10000 non-null  object \n",
      " 3   model         10000 non-null  object \n",
      " 4   condition     10000 non-null  object \n",
      " 5   odometer      10000 non-null  float64\n",
      " 6   cylinders     10000 non-null  object \n",
      " 7   fuel          10000 non-null  object \n",
      " 8   title_status  10000 non-null  object \n",
      " 9   transmission  10000 non-null  object \n",
      " 10  drive         10000 non-null  object \n",
      " 11  type          10000 non-null  object \n",
      " 12  paint_color   10000 non-null  object \n",
      " 13  state         10000 non-null  object \n",
      " 14  description   10000 non-null  object \n",
      "dtypes: float64(1), int64(2), object(12)\n",
      "memory usage: 1.2+ MB\n"
     ]
    }
   ],
   "source": [
    "import numpy as np\n",
    "import pandas as pd\n",
    "import matplotlib.pyplot as plt\n",
    "import seaborn as sns\n",
    "from sklearn.ensemble import RandomForestRegressor\n",
    "from sklearn.model_selection import train_test_split\n",
    "from sklearn.preprocessing import StandardScaler, OneHotEncoder, OrdinalEncoder, MinMaxScaler\n",
    "from sklearn.compose import ColumnTransformer\n",
    "from sklearn.pipeline import Pipeline\n",
    "from sklearn.metrics import mean_squared_error\n",
    "from sklearn.decomposition import PCA\n",
    "from tensorflow.keras.models import Sequential\n",
    "from tensorflow.keras.layers import Dense, Dropout\n",
    "import os, zipfile\n",
    "import warnings\n",
    "warnings.filterwarnings('ignore')\n",
    "pd.set_option('display.max_columns', None)\n",
    "pd.set_option('display.float_format', '{:,.2f}'.format)\n",
    "\n",
    "with zipfile.ZipFile('../data/clean_vehicles.csv.zip', 'r') as zipf:\n",
    "    zipf.extract('clean_vehicles.csv', path='../data')\n",
    "\n",
    "data = pd.read_csv('../data/clean_vehicles.csv')\n",
    "data = data.sample(n=10000, random_state=42)\n",
    "data.info()"
   ]
  },
  {
   "cell_type": "markdown",
   "id": "905273f1-2d96-4ac7-9024-4252f1814645",
   "metadata": {},
   "source": [
    "## Random Forest"
   ]
  },
  {
   "cell_type": "code",
   "execution_count": null,
   "id": "73e6f728-ea05-401c-9894-5994b3ee612a",
   "metadata": {},
   "outputs": [],
   "source": [
    "df = data.copy()\n",
    "X = df.drop(columns='price')\n",
    "y = df['price']\n",
    "\n",
    "X_train, X_test, y_train, y_test = train_test_split(X, y, test_size=0.2, random_state=42)\n",
    "\n",
    "numerical_features = ['odometer']\n",
    "ordinal_features = ['year', 'condition', 'title_status']\n",
    "categorical_features = ['manufacturer', 'model', 'cylinders', 'fuel',\n",
    "                        'transmission', 'drive', 'type', 'paint_color', 'state']\n",
    "\n",
    "numerical_transformer = StandardScaler()\n",
    "ordinal_transformer = OrdinalEncoder(handle_unknown='use_encoded_value', unknown_value=-1)\n",
    "categorical_transformer = OneHotEncoder(handle_unknown='ignore', sparse_output=False)\n",
    "\n",
    "preprocessor = ColumnTransformer(\n",
    "    transformers=[\n",
    "        ('num', numerical_transformer, numerical_features),\n",
    "        ('ord', ordinal_transformer, ordinal_features),\n",
    "        ('cat', categorical_transformer, categorical_features)\n",
    "    ])\n",
    "\n",
    "rf_model = Pipeline(steps=[\n",
    "    ('preprocessor', preprocessor),\n",
    "    ('pca', PCA(n_components=0.99)),\n",
    "    ('model', RandomForestRegressor(n_jobs=-1, random_state=42))\n",
    "])\n",
    "\n",
    "rf_model.fit(X_train, y_train)\n",
    "rf_predictions = rf_model.predict(X_test)\n",
    "rf_error = mean_squared_error(y_test, rf_predictions)\n",
    "error_price = np.sqrt(rf_error)\n",
    "print(error_price)"
   ]
  },
  {
   "cell_type": "markdown",
   "id": "e7f46604-f5ca-4031-be11-f22b5f7d1f01",
   "metadata": {},
   "source": [
    "## Neural Network"
   ]
  },
  {
   "cell_type": "code",
   "execution_count": null,
   "id": "dfe9a429-4658-452d-88c1-a9ee5af91228",
   "metadata": {},
   "outputs": [],
   "source": [
    "df = data.copy()\n",
    "X = df.drop(columns='price')\n",
    "y = df['price']\n",
    "\n",
    "X_train, X_test, y_train, y_test = train_test_split(X, y, test_size=0.2, random_state=42)\n",
    "\n",
    "numerical_features = ['odometer']\n",
    "ordinal_features = ['year', 'condition', 'title_status']\n",
    "categorical_features = ['manufacturer', 'model', 'cylinders', 'fuel',\n",
    "                        'transmission', 'drive', 'type', 'paint_color', 'state']\n",
    "\n",
    "numerical_transformer = StandardScaler()\n",
    "ordinal_transformer = OrdinalEncoder(handle_unknown='use_encoded_value', unknown_value=-1)\n",
    "categorical_transformer = OneHotEncoder(handle_unknown='ignore', sparse_output=False)\n",
    "\n",
    "preprocessor = ColumnTransformer(\n",
    "    transformers=[\n",
    "        ('num', numerical_transformer, numerical_features),\n",
    "        ('ord', ordinal_transformer, ordinal_features),\n",
    "        ('cat', categorical_transformer, categorical_features)\n",
    "    ])\n",
    "\n",
    "X_train_preprocessed = preprocessor.fit_transform(X_train)\n",
    "X_test_preprocessed = preprocessor.transform(X_test)\n",
    "pca = PCA(n_components=0.99)\n",
    "X_train_pca = pca.fit_transform(X_train_preprocessed)\n",
    "X_test_pca = pca.transform(X_test_preprocessed)\n",
    "\n",
    "neural_net = Sequential([\n",
    "    Dense(256, input_dim=X_train_pca.shape[1], activation='relu'),\n",
    "    Dropout(0.2),\n",
    "    Dense(128, activation='relu'),\n",
    "    Dropout(0.15),\n",
    "    Dense(64, activation='relu'),\n",
    "    Dropout(0.1),\n",
    "    Dense(32, activation='relu'),\n",
    "    Dense(1)\n",
    "])\n",
    "\n",
    "neural_net.compile(optimizer='adam', loss='mse')\n",
    "neural_net.fit(X_train_pca, y_train, epochs=100, batch_size=32, verbose=0, validation_split=0.2)\n",
    "neural_pred = neural_net.predict(X_test_pca)\n",
    "neural_mse = mean_squared_error(y_test, neural_pred)\n",
    "neural_price_error = np.sqrt(neural_mse)\n",
    "print('----------')\n",
    "print(neural_price_error)\n",
    "print(df['price'].describe())"
   ]
  },
  {
   "cell_type": "code",
   "execution_count": null,
   "id": "b8082f1d-e73b-4392-88e7-7098e75d23e8",
   "metadata": {},
   "outputs": [],
   "source": [
    "try:\n",
    "    print('Script executed successfully')\n",
    "except:\n",
    "    print('FAILED')"
   ]
  }
 ],
 "metadata": {
  "kernelspec": {
   "display_name": "Python 3 (ipykernel)",
   "language": "python",
   "name": "python3"
  },
  "language_info": {
   "codemirror_mode": {
    "name": "ipython",
    "version": 3
   },
   "file_extension": ".py",
   "mimetype": "text/x-python",
   "name": "python",
   "nbconvert_exporter": "python",
   "pygments_lexer": "ipython3",
   "version": "3.9.19"
  }
 },
 "nbformat": 4,
 "nbformat_minor": 5
}
